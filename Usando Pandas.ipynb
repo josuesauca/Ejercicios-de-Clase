{
 "cells": [
  {
   "cell_type": "code",
   "execution_count": 4,
   "metadata": {},
   "outputs": [
    {
     "name": "stdout",
     "output_type": "stream",
     "text": [
      "El rango es 0    28\n",
      "dtype: int64 - 0    12\n",
      "dtype: int64 su resultado : 0    16\n",
      "dtype: int64\n"
     ]
    }
   ],
   "source": [
    "import pandas as pd\n",
    "\n",
    "def main():\n",
    "    #Rango Medidas de dispersion\n",
    "    data = [12,15,17,23,25,28]\n",
    "    df = pd.DataFrame(data)\n",
    "    #El rango es la resta del valor maximo de un conjunto de datos y el minimo\n",
    "    print(F\"El rango es {df.max()} - {df.min()} su resultado : {df.max() - df.min()}\")\n",
    "\n",
    "if __name__ == \"__main__\":\n",
    "    main()\n",
    "\n",
    "    "
   ]
  },
  {
   "cell_type": "code",
   "execution_count": null,
   "metadata": {},
   "outputs": [],
   "source": []
  }
 ],
 "metadata": {
  "kernelspec": {
   "display_name": "Python 3",
   "language": "python",
   "name": "python3"
  },
  "language_info": {
   "codemirror_mode": {
    "name": "ipython",
    "version": 3
   },
   "file_extension": ".py",
   "mimetype": "text/x-python",
   "name": "python",
   "nbconvert_exporter": "python",
   "pygments_lexer": "ipython3",
   "version": "3.8.3"
  }
 },
 "nbformat": 4,
 "nbformat_minor": 4
}
