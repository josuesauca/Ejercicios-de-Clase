{
 "cells": [
  {
   "cell_type": "code",
   "execution_count": 1,
   "metadata": {},
   "outputs": [],
   "source": [
    "# -*- coding utf 8 -*\n",
    "from functools import reduce\n",
    "\n",
    "def media(lista):\n",
    "    #Calcular la media de una lista de elementos\n",
    "    return reduce(lambda a,b: a+b,lista) / len(lista)\n"
   ]
  },
  {
   "cell_type": "code",
   "execution_count": 2,
   "metadata": {},
   "outputs": [],
   "source": [
    "\n",
    "def obtenerFrecuencia(lista):\n",
    "    #Obtener la lista de solo frecuencias, de la lista original\n",
    "    return list(map(lambda x:x[1],lista))\n",
    "\n",
    "    "
   ]
  },
  {
   "cell_type": "code",
   "execution_count": 3,
   "metadata": {},
   "outputs": [],
   "source": [
    "\n",
    "def totalFrecuencia(lista):\n",
    "    #Calculo el total de la frecuencia de la columna de la lista\n",
    "    return reduce(lambda x,y: x+y,obtenerFrecuencia(lista))\n"
   ]
  },
  {
   "cell_type": "code",
   "execution_count": 4,
   "metadata": {},
   "outputs": [],
   "source": [
    "\n",
    "def mediaTotal(lista,totalFrecuencia):\n",
    "    #Calculo la meida total de la columna de la lista,sumando la media de los rangos,dividido por el total de frecuencias\n",
    "    return reduce(lambda a,b:a+b,list(map(lambda x:media(x[0]) * x[1] , lista)))/ totalFrecuencia\n"
   ]
  },
  {
   "cell_type": "code",
   "execution_count": 5,
   "metadata": {},
   "outputs": [],
   "source": [
    "\n",
    "def registroMedia(registro):\n",
    "    #Calculo la media del rango del elemento\n",
    "    return (registro[0] * registro[1])/2"
   ]
  },
  {
   "cell_type": "code",
   "execution_count": 6,
   "metadata": {},
   "outputs": [],
   "source": [
    "\n",
    "def XMenosMedia(x,media):\n",
    "    valRegistroMedia = registroMedia(x)\n",
    "    print(\"Registro Media {}\".format(valRegistroMedia))\n",
    "    #Calculo el valor absoluto de la media del rango del elemento, menos la media total\n",
    "    return abs(valRegistroMedia - media)\n",
    "        "
   ]
  },
  {
   "cell_type": "code",
   "execution_count": 7,
   "metadata": {},
   "outputs": [],
   "source": [
    "def XMenosMediaPorFrec(lista,valTotalFrecuencia):\n",
    "    valTotalMedia = mediaTotal(lista,valTotalFrecuencia)\n",
    "    print(\"Total Media Aritmetrica : {}\".format(valTotalMedia))\n",
    "    #Recorro la lista, calculando x - Media Total * Frecuencia de cada elemento\n",
    "    return list(map(lambda x:XMenosMedia(x[0], valTotalMedia) * x[1], lista))\n"
   ]
  },
  {
   "cell_type": "code",
   "execution_count": 8,
   "metadata": {},
   "outputs": [],
   "source": [
    "def agrupDesviacionMedia(lista):\n",
    "    valTotalFrecuencia = totalFrecuencia(lista)\n",
    "    print(\"Total frecuencia {}\".format(valTotalFrecuencia))\n",
    "    #sumo todos los resultados del calculo de x - media * frecuencia /total frecuencia\n",
    "    return reduce(lambda x,y: x + y,XMenosMediaPorFrec(lista,valTotalFrecuencia))/ valTotalFrecuencia\n"
   ]
  },
  {
   "cell_type": "code",
   "execution_count": 9,
   "metadata": {},
   "outputs": [],
   "source": [
    "\n",
    "def main():\n",
    "    lista = [ ((10,15),3), ((15,20),5) ,((20,25),7),((25,30),4),((30,35),2) ]\n",
    "    print(\"Desviacion media agrupada : {}\".format(agrupDesviacionMedia(lista)))"
   ]
  },
  {
   "cell_type": "code",
   "execution_count": 10,
   "metadata": {},
   "outputs": [
    {
     "name": "stdout",
     "output_type": "stream",
     "text": [
      "Total frecuencia 21\n",
      "Total Media Aritmetrica : 21.785714285714285\n",
      "Registro Media 75.0\n",
      "Registro Media 150.0\n",
      "Registro Media 250.0\n",
      "Registro Media 375.0\n",
      "Registro Media 525.0\n",
      "Desviacion media agrupada : 229.4047619047619\n"
     ]
    }
   ],
   "source": [
    "\n",
    "if __name__ == \"__main__\":\n",
    "    main()"
   ]
  },
  {
   "cell_type": "code",
   "execution_count": null,
   "metadata": {},
   "outputs": [],
   "source": []
  }
 ],
 "metadata": {
  "kernelspec": {
   "display_name": "Python 3",
   "language": "python",
   "name": "python3"
  },
  "language_info": {
   "codemirror_mode": {
    "name": "ipython",
    "version": 3
   },
   "file_extension": ".py",
   "mimetype": "text/x-python",
   "name": "python",
   "nbconvert_exporter": "python",
   "pygments_lexer": "ipython3",
   "version": "3.8.3"
  }
 },
 "nbformat": 4,
 "nbformat_minor": 4
}
